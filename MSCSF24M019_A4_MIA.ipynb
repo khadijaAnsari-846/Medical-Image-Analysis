{
  "nbformat": 4,
  "nbformat_minor": 0,
  "metadata": {
    "colab": {
      "provenance": []
    },
    "kernelspec": {
      "name": "python3",
      "display_name": "Python 3"
    },
    "language_info": {
      "name": "python"
    }
  },
  "cells": [
    {
      "cell_type": "code",
      "execution_count": 246,
      "metadata": {
        "id": "kpeRntOTO4-w"
      },
      "outputs": [],
      "source": [
        "import numpy as np\n",
        "import matplotlib.pyplot as plt\n",
        "import imageio as io\n",
        "import os\n",
        "import cv2 as cv\n"
      ]
    },
    {
      "cell_type": "code",
      "source": [
        "#glcm matrix return\n",
        "def glcm_matrix(input_matrix, levels, distance=1, angle=0):\n",
        "\n",
        "    glcm = np.zeros((levels, levels), dtype=int)\n",
        "    rows, cols = input_matrix.shape\n",
        "\n",
        "    # For 0-degree angle (horizontal)\n",
        "    if angle == 0:\n",
        "        for i in range(rows):\n",
        "            for j in range(cols-distance ):\n",
        "                pixel1 = input_matrix[i, j]\n",
        "                pixel2 = input_matrix[i, j + distance]\n",
        "                glcm[pixel1 - 1, pixel2 - 1] += 1\n",
        "    # Calculate GLCM for 45-degree angle\n",
        "    elif angle == 45:\n",
        "      for i in range(rows):\n",
        "        for j in range(cols-1):\n",
        "          if (i!=0):\n",
        "            pixel1 = input_matrix[i, j]\n",
        "            pixel2 = input_matrix[i - distance, j + distance]\n",
        "            glcm[pixel1 -1, pixel2 -1] += 1\n",
        "          else:\n",
        "            continue\n",
        "     # Calculate GLCM for 90-degree angle\n",
        "    elif angle== 90:\n",
        "      for i in range(rows):\n",
        "        for j in range(cols):\n",
        "          if(i!=0):\n",
        "            pixel1=input_matrix[i,j]\n",
        "            pixel2=input_matrix[i-1,j]\n",
        "            glcm[pixel1-1,pixel2-1]+=1\n",
        "          else:\n",
        "            continue\n",
        "    elif angle== 135:\n",
        "      for i in range(rows):\n",
        "        for j in range(cols):\n",
        "          if(i!=0 or j!=0):\n",
        "            pixel1=input_matrix[i,j]\n",
        "            pixel2=input_matrix[i-1,j-1]\n",
        "            glcm[pixel1-1,pixel2-1]+=1\n",
        "          else:\n",
        "            continue\n",
        "\n",
        "\n",
        "\n",
        "\n",
        "\n",
        "\n",
        "\n",
        "\n",
        "\n",
        "\n",
        "\n",
        "           # You can add similar blocks for other angles (45, 90, 135)\n",
        "\n",
        "    return glcm\n",
        "\n"
      ],
      "metadata": {
        "id": "ny5XjF29qHDD"
      },
      "execution_count": 247,
      "outputs": []
    },
    {
      "cell_type": "code",
      "source": [
        "# Example usage:\n",
        "input_matrix=np.array([[1,2,3,2,4],\n",
        "                       [5,3,2,1,1],\n",
        "                       [3,2,1,2,1],\n",
        "                       [1,1,5,2,1],\n",
        "                       [2,5,4,1,3]])\n",
        "\n",
        "levels =np.unique(input_matrix)\n",
        "levels=levels.shape[0]\n",
        "\n",
        "\n",
        "glcm1 = glcm_matrix(input_matrix, levels, distance=1, angle=0)\n",
        "glcm2 = glcm_matrix(input_matrix, levels, distance=1, angle=45)\n",
        "glcm3 = glcm_matrix(input_matrix, levels, distance=1, angle=90)\n",
        "glcm4 = glcm_matrix(input_matrix, levels, distance=1, angle=135)\n",
        "print(glcm1)\n",
        "print()\n",
        "print(glcm2)\n",
        "print()\n",
        "print(glcm3)\n",
        "print()\n",
        "print(glcm4)\n",
        "print()"
      ],
      "metadata": {
        "colab": {
          "base_uri": "https://localhost:8080/"
        },
        "id": "0llJUbu0anBL",
        "outputId": "48861b3a-85e6-4586-a4e2-533ef8a91941"
      },
      "execution_count": 248,
      "outputs": [
        {
          "output_type": "stream",
          "name": "stdout",
          "text": [
            "[[2 2 1 0 1]\n",
            " [4 0 1 1 1]\n",
            " [0 3 0 0 0]\n",
            " [1 0 0 0 0]\n",
            " [0 1 1 1 0]]\n",
            "\n",
            "[[3 1 0 1 0]\n",
            " [3 2 0 0 0]\n",
            " [0 0 2 0 0]\n",
            " [0 1 0 0 0]\n",
            " [0 2 0 0 1]]\n",
            "\n",
            "[[2 4 1 1 0]\n",
            " [2 1 2 0 0]\n",
            " [1 1 0 0 1]\n",
            " [0 0 0 0 1]\n",
            " [3 0 0 0 0]]\n",
            "\n",
            "[[2 2 3 0 1]\n",
            " [2 3 0 1 1]\n",
            " [2 1 0 0 1]\n",
            " [2 0 0 0 0]\n",
            " [1 1 0 1 0]]\n",
            "\n"
          ]
        }
      ]
    },
    {
      "cell_type": "code",
      "source": [
        "def systemtric_glcm(glcm_matrix):\n",
        "  transpose_glcm=np.transpose(glcm_matrix)\n",
        "  final_glcm_matrix=glcm_matrix+transpose_glcm\n",
        "  return final_glcm_matrix\n"
      ],
      "metadata": {
        "id": "JgYtzKZram1S"
      },
      "execution_count": 249,
      "outputs": []
    },
    {
      "cell_type": "code",
      "source": [
        "#take systemric_matrix\n",
        "systemtric_glcm=systemtric_glcm(glcm2)\n",
        "systemtric_glcm\n"
      ],
      "metadata": {
        "colab": {
          "base_uri": "https://localhost:8080/"
        },
        "id": "VR0cRqE6n1b7",
        "outputId": "f8935056-f134-4e53-a6af-247ff77b1677"
      },
      "execution_count": 250,
      "outputs": [
        {
          "output_type": "execute_result",
          "data": {
            "text/plain": [
              "array([[6, 4, 0, 1, 0],\n",
              "       [4, 4, 0, 1, 2],\n",
              "       [0, 0, 4, 0, 0],\n",
              "       [1, 1, 0, 0, 0],\n",
              "       [0, 2, 0, 0, 2]])"
            ]
          },
          "metadata": {},
          "execution_count": 250
        }
      ]
    },
    {
      "cell_type": "code",
      "source": [
        "#probaalistic-glcm p(i,j)\n",
        "def probablistic_glcm(systemtric_glcm):\n",
        "  total_gray_values=np.sum(systemtric_glcm)\n",
        "  probablistic_glcm=systemtric_glcm/total_gray_values\n",
        "  return probablistic_glcm\n"
      ],
      "metadata": {
        "id": "beKxUxW5p4lq"
      },
      "execution_count": 251,
      "outputs": []
    },
    {
      "cell_type": "code",
      "source": [
        "# take a probability according to total gray-values in side glcm\n",
        "probablistic_glcm=probablistic_glcm(systemtric_glcm)\n",
        "probablistic_glcm\n"
      ],
      "metadata": {
        "colab": {
          "base_uri": "https://localhost:8080/"
        },
        "id": "AMaVnMiRn1JA",
        "outputId": "f7a4b18c-156a-4f06-eab7-0e9a0f190a76"
      },
      "execution_count": 252,
      "outputs": [
        {
          "output_type": "execute_result",
          "data": {
            "text/plain": [
              "array([[0.1875 , 0.125  , 0.     , 0.03125, 0.     ],\n",
              "       [0.125  , 0.125  , 0.     , 0.03125, 0.0625 ],\n",
              "       [0.     , 0.     , 0.125  , 0.     , 0.     ],\n",
              "       [0.03125, 0.03125, 0.     , 0.     , 0.     ],\n",
              "       [0.     , 0.0625 , 0.     , 0.     , 0.0625 ]])"
            ]
          },
          "metadata": {},
          "execution_count": 252
        }
      ]
    },
    {
      "cell_type": "code",
      "source": [
        "#let start computing a 2nd order statistical feature\n",
        "def energy(probablistic_glcm):\n",
        "  energy=np.sum(probablistic_glcm**2)\n",
        "  return energy"
      ],
      "metadata": {
        "id": "gDPwFFh6qyhI"
      },
      "execution_count": 253,
      "outputs": []
    },
    {
      "cell_type": "code",
      "source": [
        "energy=energy(probablistic_glcm)\n",
        "energy"
      ],
      "metadata": {
        "colab": {
          "base_uri": "https://localhost:8080/"
        },
        "id": "_Di4znSurFlJ",
        "outputId": "0f4d22c8-cc4d-4556-fd54-ba56d115b3e4"
      },
      "execution_count": 254,
      "outputs": [
        {
          "output_type": "execute_result",
          "data": {
            "text/plain": [
              "0.11328125"
            ]
          },
          "metadata": {},
          "execution_count": 254
        }
      ]
    },
    {
      "cell_type": "code",
      "source": [
        "#contrast\n",
        "def contrast(probablistic_glcm):\n",
        "  contrast=0\n",
        "  for i in range(probablistic_glcm.shape[0]):\n",
        "    for j in range(probablistic_glcm.shape[1]):\n",
        "      contrast+=((i-j)**2)*(probablistic_glcm[i,j])\n",
        "  return contrast\n",
        ""
      ],
      "metadata": {
        "id": "IUtfjNU1rRTX"
      },
      "execution_count": 255,
      "outputs": []
    },
    {
      "cell_type": "code",
      "source": [
        "contrast=contrast(probablistic_glcm)\n",
        "contrast"
      ],
      "metadata": {
        "colab": {
          "base_uri": "https://localhost:8080/"
        },
        "id": "q102Z5RcrvZv",
        "outputId": "680e961a-4935-4206-d668-ee7d57d8a0a0"
      },
      "execution_count": 256,
      "outputs": [
        {
          "output_type": "execute_result",
          "data": {
            "text/plain": [
              "2.1875"
            ]
          },
          "metadata": {},
          "execution_count": 256
        }
      ]
    },
    {
      "cell_type": "code",
      "source": [
        "#entropy\n",
        "def entropy_func(glcm_matrix):\n",
        "  entropy=0\n",
        "  multiply=np.zeros((probablistic_glcm.shape[0],probablistic_glcm.shape[1]))\n",
        "  for i in range(glcm_matrix.shape[0]):\n",
        "    for j in range(glcm_matrix.shape[1]):\n",
        "      if(glcm_matrix[i,j]!=0):\n",
        "        multiply[i,j]=(probablistic_glcm[i,j]*np.log(probablistic_glcm[i,j]))\n",
        "        entropy+=multiply[i,j]\n",
        "      else:\n",
        "        multiply[i,j]=0\n",
        "        entropy+=multiply[i,j]\n",
        "\n",
        "\n",
        "\n",
        "\n",
        "  return entropy,multiply"
      ],
      "metadata": {
        "id": "aF5bOqjTr6xI"
      },
      "execution_count": 257,
      "outputs": []
    },
    {
      "cell_type": "code",
      "source": [
        "entropy,multiply=entropy_func(probablistic_glcm)\n",
        "entropy,multiply"
      ],
      "metadata": {
        "colab": {
          "base_uri": "https://localhost:8080/"
        },
        "id": "3q54shvbt6rM",
        "outputId": "8960ddfa-9b5e-4525-ea57-ad1bed649dea"
      },
      "execution_count": 258,
      "outputs": [
        {
          "output_type": "execute_result",
          "data": {
            "text/plain": [
              "(-2.3066687254045313,\n",
              " array([[-0.31387058, -0.25993019,  0.        , -0.10830425,  0.        ],\n",
              "        [-0.25993019, -0.25993019,  0.        , -0.10830425, -0.1732868 ],\n",
              "        [ 0.        ,  0.        , -0.25993019,  0.        ,  0.        ],\n",
              "        [-0.10830425, -0.10830425,  0.        ,  0.        ,  0.        ],\n",
              "        [ 0.        , -0.1732868 ,  0.        ,  0.        , -0.1732868 ]]))"
            ]
          },
          "metadata": {},
          "execution_count": 258
        }
      ]
    },
    {
      "cell_type": "code",
      "source": [
        "#IDM\n",
        "def IDM(probablistic_glcm):\n",
        "  idm=0\n",
        "  multiply=np.zeros((probablistic_glcm.shape[0],probablistic_glcm.shape[1]))\n",
        "  for i in range(probablistic_glcm.shape[0]):\n",
        "    for j in range(probablistic_glcm.shape[1]):\n",
        "      if(probablistic_glcm[i,j]!=0):\n",
        "        multiply[i,j]=((1/(1+(i-j)**2)))*(probablistic_glcm[i,j])\n",
        "        idm+=multiply[i,j]\n",
        "      else:\n",
        "        multiply[i,j]=0\n",
        "        idm+=multiply[i,j]\n",
        "\n",
        "  return idm"
      ],
      "metadata": {
        "id": "THJ1M5HPz84D"
      },
      "execution_count": 259,
      "outputs": []
    },
    {
      "cell_type": "code",
      "source": [
        "idm=IDM(probablistic_glcm)\n",
        "idm"
      ],
      "metadata": {
        "colab": {
          "base_uri": "https://localhost:8080/"
        },
        "id": "--9fr8wYz8py",
        "outputId": "893116d2-41b6-4820-9d60-de281f82c574"
      },
      "execution_count": 260,
      "outputs": [
        {
          "output_type": "execute_result",
          "data": {
            "text/plain": [
              "0.65625"
            ]
          },
          "metadata": {},
          "execution_count": 260
        }
      ]
    },
    {
      "cell_type": "code",
      "source": [
        "a=np.arange(probablistic_glcm.shape[0] * probablistic_glcm.shape[1])\n",
        "a.reshape(probablistic_glcm.shape)"
      ],
      "metadata": {
        "colab": {
          "base_uri": "https://localhost:8080/"
        },
        "id": "NbYvhdI85d-C",
        "outputId": "7a0a44d2-56b1-4a76-b074-80cdea718b19"
      },
      "execution_count": 261,
      "outputs": [
        {
          "output_type": "execute_result",
          "data": {
            "text/plain": [
              "array([[ 0,  1,  2,  3,  4],\n",
              "       [ 5,  6,  7,  8,  9],\n",
              "       [10, 11, 12, 13, 14],\n",
              "       [15, 16, 17, 18, 19],\n",
              "       [20, 21, 22, 23, 24]])"
            ]
          },
          "metadata": {},
          "execution_count": 261
        }
      ]
    },
    {
      "cell_type": "code",
      "source": [
        "meanx = np.sum(np.multiply(np.arange(probablistic_glcm.shape[0] * probablistic_glcm.shape[1]).reshape(probablistic_glcm.shape), probablistic_glcm))\n",
        "meanx"
      ],
      "metadata": {
        "colab": {
          "base_uri": "https://localhost:8080/"
        },
        "id": "Lv0wXzn-3afT",
        "outputId": "0256fbe3-af68-404d-c1ab-024693b0bf03"
      },
      "execution_count": 262,
      "outputs": [
        {
          "output_type": "execute_result",
          "data": {
            "text/plain": [
              "7.6875"
            ]
          },
          "metadata": {},
          "execution_count": 262
        }
      ]
    },
    {
      "cell_type": "code",
      "source": [
        "#correaltion\n",
        "def correlation_func(probablistic_glcm):\n",
        "  correlation=0\n",
        "\n",
        "  # meanx,meany ---->sum i*px(i)\n",
        "  px=np.sum(probablistic_glcm,axis=1)\n",
        "  py=np.sum(probablistic_glcm,axis=0)\n",
        "  meanx=np.sum(np.multiply(np.arange(px.shape[0]).reshape(px.shape),px))\n",
        "  meany=np.sum(np.multiply(np.arange(py.shape[0]).reshape(py.shape),py))\n",
        "\n",
        "  #sigmax.sigmay ---->squre root(sum(i-ux)**2(px(i)))\n",
        "\n",
        "  sigmax=np.sqrt(np.sum(np.multiply((np.arange(px.shape[0]).reshape(px.shape)-(meanx))**2,px)))\n",
        "  sigmay=np.sqrt(np.sum(np.multiply((np.arange(py.shape[0]).reshape(py.shape)-(meany))**2,py)))\n",
        "\n",
        "\n",
        "  #correaltion sum((i*j)*(p(i,j)-(meanx*meany)/(sigmax*sigmay))\n",
        "  for i in range(probablistic_glcm.shape[0]):\n",
        "    for j in range(probablistic_glcm.shape[1]):\n",
        "      correlation+=(((i*j)*probablistic_glcm[i,j])-(meanx*meany))/(sigmax*sigmay)\n",
        "\n",
        "\n",
        "  return correlation\n"
      ],
      "metadata": {
        "id": "AlDQIl2r2cgj"
      },
      "execution_count": 263,
      "outputs": []
    },
    {
      "cell_type": "code",
      "source": [
        "correlation=correlation_func(probablistic_glcm)\n",
        "correlation"
      ],
      "metadata": {
        "colab": {
          "base_uri": "https://localhost:8080/"
        },
        "id": "4CLl__Lq9d1G",
        "outputId": "fb15b8ab-ff01-4f8c-83d2-26c2e668fbae"
      },
      "execution_count": 264,
      "outputs": [
        {
          "output_type": "execute_result",
          "data": {
            "text/plain": [
              "-21.946319867183185"
            ]
          },
          "metadata": {},
          "execution_count": 264
        }
      ]
    },
    {
      "cell_type": "code",
      "source": [
        "#display a all answer for any angle\n",
        "def display():\n",
        "  print(\"Energy is ::\",energy)\n",
        "  print(\"Contrast is ::\",contrast)\n",
        "  print(\"Entropy is ::\",entropy)\n",
        "  print(\"IDM is ::\",idm)\n",
        "  print(\"Corealation is ::\",correlation)"
      ],
      "metadata": {
        "id": "Aj7XVRjDE0pp"
      },
      "execution_count": 265,
      "outputs": []
    },
    {
      "cell_type": "code",
      "source": [
        "display()"
      ],
      "metadata": {
        "colab": {
          "base_uri": "https://localhost:8080/"
        },
        "id": "2unfd2S-FtHD",
        "outputId": "b5f73eb1-c908-4ca9-ebe9-753f145faf2b"
      },
      "execution_count": 266,
      "outputs": [
        {
          "output_type": "stream",
          "name": "stdout",
          "text": [
            "Energy is :: 0.11328125\n",
            "Contrast is :: 2.1875\n",
            "Entropy is :: -2.3066687254045313\n",
            "IDM is :: 0.65625\n",
            "Corealation is :: -21.946319867183185\n"
          ]
        }
      ]
    }
  ]
}